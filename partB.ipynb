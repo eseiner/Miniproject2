{
 "cells": [
  {
   "cell_type": "code",
   "execution_count": 13,
   "metadata": {},
   "outputs": [],
   "source": [
    "import numpy as np\n",
    "import matplotlib.pyplot as plt\n",
    "import numba\n",
    "import pandas as pd\n",
    "from surprise import SVD, Dataset, Reader\n",
    "from surprise.model_selection import cross_validate"
   ]
  },
  {
   "cell_type": "code",
   "execution_count": 14,
   "metadata": {},
   "outputs": [],
   "source": [
    "@numba.njit # decorator to parallelize computations for speed up\n",
    "def grad_U(Ui, Yij, Vj, reg, eta):\n",
    "    \"\"\"\n",
    "    Takes as input Ui (the ith row of U), a training point Yij, the column\n",
    "    vector Vj (jth column of V^T), reg (the regularization parameter lambda),\n",
    "    and eta (the learning rate).\n",
    "\n",
    "    Returns the gradient of the regularized loss function with\n",
    "    respect to Ui multiplied by eta.\n",
    "    \"\"\"\n",
    "    d_ui = reg * Ui - Vj * (Yij - np.dot(Ui, Vj))\n",
    "    return eta * d_ui\n",
    "\n",
    "@numba.njit\n",
    "def grad_V(Vj, Yij, Ui, reg, eta):\n",
    "    \"\"\"\n",
    "    Takes as input the column vector Vj (jth column of V^T), a training point Yij,\n",
    "    Ui (the ith row of U), reg (the regularization parameter lambda),\n",
    "    and eta (the learning rate).\n",
    "\n",
    "    Returns the gradient of the regularized loss function with\n",
    "    respect to Vj multiplied by eta.\n",
    "    \"\"\"\n",
    "    d_vj = reg * Vj - Ui * (Yij - np.dot(Ui, Vj))\n",
    "    return eta * d_vj\n",
    "\n",
    "@numba.njit\n",
    "def get_err(U, V, Y, reg=0.0):\n",
    "    \"\"\"\n",
    "    Takes as input a matrix Y of triples (i, j, Y_ij) where i is the index of a user,\n",
    "    j is the index of a movie, and Y_ij is user i's rating of movie j and\n",
    "    user/movie matrices U and V.\n",
    "\n",
    "    Returns the mean regularized squared-error of predictions made by\n",
    "    estimating Y_{ij} as the dot product of the ith row of U and the jth column of V^T.\n",
    "    \"\"\"\n",
    "    err = 0\n",
    "    for row in Y:\n",
    "      [i, j, Y_ij] = row\n",
    "      err += 0.5 * (Y_ij - np.dot(U[i-1], V[j-1]))**2\n",
    "    return err/len(Y)\n",
    "\n",
    "@numba.njit\n",
    "def train_model(M, N, K, eta, reg, Y, eps=0.0001, max_epochs=300):\n",
    "    \"\"\"\n",
    "    Given a training data matrix Y containing rows (i, j, Y_ij)\n",
    "    where Y_ij is user i's rating on movie j, learns an\n",
    "    M x K matrix U and N x K matrix V such that rating Y_ij is approximated\n",
    "    by (UV^T)_ij.\n",
    "\n",
    "    Uses a learning rate of <eta> and regularization of <reg>. Stops after\n",
    "    <max_epochs> epochs, or once the magnitude of the decrease in regularized\n",
    "    MSE between epochs is smaller than a fraction <eps> of the decrease in\n",
    "    MSE after the first epoch.\n",
    "\n",
    "    Returns a tuple (U, V, err) consisting of U, V, and the unregularized MSE\n",
    "    of the model.\n",
    "    \"\"\"\n",
    "    U = np.random.uniform(-0.5, 0.5, (M, K))\n",
    "    V = np.random.uniform(-0.5, 0.5, (N, K))\n",
    "    init_loss = get_err(U, V, Y)\n",
    "    prev_loss = 0\n",
    "    first_epoch_loss = 0\n",
    "    for epoch in range(max_epochs):\n",
    "      indices = np.random.permutation(len(Y))\n",
    "      for row in indices:\n",
    "        i, j, Y_ij = Y[row, 0], Y[row, 1], Y[row, 2]\n",
    "        U[i-1] -= grad_U(U[i-1], Y_ij, V[j-1], reg, eta)\n",
    "        V[j-1] -= grad_V(V[j-1], Y_ij, U[i-1], reg, eta)\n",
    "      curr_loss = get_err(U, V, Y)\n",
    "      if epoch == 0:\n",
    "        first_epoch_loss = init_loss - curr_loss\n",
    "      else:\n",
    "        if (prev_loss - curr_loss) <= eps * first_epoch_loss:\n",
    "          break\n",
    "      prev_loss = curr_loss\n",
    "    return (U, V, get_err(U, V, Y))\n"
   ]
  },
  {
   "cell_type": "code",
   "execution_count": 15,
   "metadata": {},
   "outputs": [],
   "source": [
    "train = pd.read_csv('data/train.csv')\n",
    "test = pd.read_csv('data/test.csv')\n",
    "train.columns = train.iloc[1]\n",
    "test.columns = test.iloc[1]\n",
    "train = train.drop(1)\n",
    "test = test.drop(1)\n",
    "train = train.reset_index(drop=True)\n",
    "test = test.reset_index(drop=True)"
   ]
  },
  {
   "cell_type": "code",
   "execution_count": 16,
   "metadata": {},
   "outputs": [
    {
     "name": "stdout",
     "output_type": "stream",
     "text": [
      "Factorizing with  943  users,  1682  movies.\n"
     ]
    }
   ],
   "source": [
    "Y_train = train.to_numpy(dtype=int)\n",
    "Y_test = test.to_numpy(dtype=int)\n",
    "\n",
    "M = max(max(Y_train[1:,0]), max(Y_test[1:,0])).astype(int) # users\n",
    "N = max(max(Y_train[1:,1]), max(Y_test[1:,1])).astype(int) # movies\n",
    "print(\"Factorizing with \", M, \" users, \", N, \" movies.\")\n",
    "K = 20\n",
    "\n",
    "reg = 0.0\n",
    "eta = 0.03 # learning rate\n",
    "E_in = []\n",
    "E_out = []\n",
    "\n",
    "# Use to compute Ein and Eout\n",
    "U,V, err = train_model(M, N, K, eta, reg, Y_train)\n",
    "E_in.append(err)\n",
    "E_out.append(get_err(U, V, Y_test))\n",
    "\n",
    "# plt.plot(K, E_in, label='$E_{in}$')\n",
    "# plt.plot(K, E_out, label='$E_{out}$')\n",
    "# plt.title('Error vs. K')\n",
    "# plt.xlabel('K')\n",
    "# plt.ylabel('Error')\n",
    "# plt.legend()\n",
    "# plt.savefig('Method_1.png')"
   ]
  },
  {
   "cell_type": "code",
   "execution_count": 33,
   "metadata": {},
   "outputs": [
    {
     "data": {
      "text/plain": [
       "<surprise.prediction_algorithms.matrix_factorization.SVD at 0x7fc91ad65ee0>"
      ]
     },
     "execution_count": 33,
     "metadata": {},
     "output_type": "execute_result"
    }
   ],
   "source": [
    "reader = Reader()\n",
    "data = Dataset.load_from_df(train, reader)\n",
    "data_train  = data.build_full_trainset()\n",
    "algo = SVD(n_factors=25, n_epochs=300, biased=True, lr_all = 0.01, reg_all = 0.1)\n",
    "algo.fit(data_train)"
   ]
  },
  {
   "cell_type": "code",
   "execution_count": 22,
   "metadata": {},
   "outputs": [],
   "source": [
    "V = algo.qi.transpose()\n",
    "A = np.linalg.svd(V)[0]\n",
    "V_proj = np.dot(A[:, :2].transpose(), V)\n",
    "\n",
    "V_proj /= V_proj.std(axis=1).reshape(2, 1)"
   ]
  },
  {
   "cell_type": "code",
   "execution_count": null,
   "metadata": {},
   "outputs": [],
   "source": []
  },
  {
   "cell_type": "code",
   "execution_count": null,
   "metadata": {},
   "outputs": [],
   "source": []
  },
  {
   "cell_type": "code",
   "execution_count": null,
   "metadata": {},
   "outputs": [],
   "source": []
  }
 ],
 "metadata": {
  "interpreter": {
   "hash": "7bbc098ebee9ff1247ec94151869166f48681c7fa8d852db09500816e1bc7de9"
  },
  "kernelspec": {
   "display_name": "Python 3.8.8 ('base')",
   "language": "python",
   "name": "python3"
  },
  "language_info": {
   "codemirror_mode": {
    "name": "ipython",
    "version": 3
   },
   "file_extension": ".py",
   "mimetype": "text/x-python",
   "name": "python",
   "nbconvert_exporter": "python",
   "pygments_lexer": "ipython3",
   "version": "3.8.8"
  },
  "orig_nbformat": 4
 },
 "nbformat": 4,
 "nbformat_minor": 2
}
