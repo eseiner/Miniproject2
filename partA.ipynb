{
 "cells": [
  {
   "cell_type": "code",
   "execution_count": 15,
   "source": [
    "import pandas as pd\n",
    "import matplotlib.pyplot as plt\n",
    "%matplotlib inline\n",
    "import numpy as np"
   ],
   "outputs": [],
   "metadata": {}
  },
  {
   "cell_type": "markdown",
   "source": [
    "Loading Data"
   ],
   "metadata": {}
  },
  {
   "cell_type": "code",
   "execution_count": 6,
   "source": [
    "# movies = pd.read_csv('https://raw.githubusercontent.com/charlesincharge/Caltech-CS155-2022/main/miniprojects/miniproject2/data/movies.csv')\n",
    "# data = pd.read_csv('https://raw.githubusercontent.com/charlesincharge/Caltech-CS155-2022/main/miniprojects/miniproject2/data/data.csv')\n",
    "\n",
    "movies = pd.read_csv('data/movies.csv')\n",
    "data = pd.read_csv('data/data.csv')"
   ],
   "outputs": [],
   "metadata": {}
  },
  {
   "cell_type": "code",
   "execution_count": 37,
   "source": [
    "ratings = data['Rating']\n",
    "labels = list(range(1, 6, 1))\n",
    "freq = [ratings[ratings == i].count() for i in labels]\n",
    "plt.bar(labels, freq)\n",
    "# plt.xticks(np.arange(1, 6, 1))\n",
    "plt.show()\n",
    "\n",
    "#TODO: Add axis and plot titles"
   ],
   "outputs": [
    {
     "output_type": "display_data",
     "data": {
      "image/png": "[encoded data removed]",
      "text/plain": [
       "<Figure size 432x288 with 1 Axes>"
      ]
     },
     "metadata": {
      "needs_background": "light"
     }
    }
   ],
   "metadata": {}
  },
  {
   "cell_type": "code",
   "execution_count": 100,
   "source": [
    "top_ten = data.value_counts(subset=['Movie ID'])[:10]\n",
    "\n",
    "ids = []\n",
    "for element in list(top_ten.keys()):\n",
    "    ids.append(element[0])\n",
    "print(ids)\n",
    "\n",
    "i = 0\n",
    "titles = set()\n",
    "for movie in range(len(movies)):\n",
    "    if movies['Movie ID'][movie] in ids:\n",
    "        titles.add(movies['Movie Title'][movie])\n",
    "# rating = [movies[movies['Movie Title'] == mov_id] for mov_id in ids]\n",
    "\n",
    "print(titles)\n",
    "bottom = [0, 0, 0, 0, 0]\n",
    "prev_bottom = []\n",
    "\n",
    "for j in range(0, 10):\n",
    "    labels = list(range(1, 6, 1))\n",
    "    freq = [0, 0, 0, 0, 0]\n",
    "    prev_bottom = bottom.copy()\n",
    "    for i in range(len(data)):\n",
    "        if data['Movie ID'][i] == (ids[j]):\n",
    "            freq[data['Rating'][i]-1] += 1\n",
    "            bottom[data['Rating'][i]-1] += 1\n",
    "    plt.bar(labels, freq, bottom=prev_bottom)\n",
    "plt.show()\n",
    "    #TODO: Add axis titles and plt title"
   ],
   "outputs": [
    {
     "output_type": "stream",
     "name": "stdout",
     "text": [
      "[50, 258, 100, 181, 294, 286, 288, 1, 300, 121]\n",
      "{'English Patient, The (1996)', 'Air Force One (1997)', 'Return of the Jedi (1983)', 'Star Wars (1977)', 'Toy Story (1995)', 'Liar Liar (1997)', 'Fargo (1996)', 'Contact (1997)', 'Independence Day (ID4) (1996)', 'Scream (1996)'}\n"
     ]
    },
    {
     "output_type": "display_data",
     "data": {
      "image/png": "[encoded data removed]",
      "text/plain": [
       "<Figure size 432x288 with 1 Axes>"
      ]
     },
     "metadata": {
      "needs_background": "light"
     }
    }
   ],
   "metadata": {}
  },
  {
   "cell_type": "code",
   "execution_count": 87,
   "source": [
    "freq = [ratings[ratings == i] for i in labels]\n",
    "print(freq)"
   ],
   "outputs": [
    {
     "output_type": "stream",
     "name": "stdout",
     "text": [
      "[2        1\n",
      "4        1\n",
      "36       1\n",
      "38       1\n",
      "61       1\n",
      "        ..\n",
      "99926    1\n",
      "99965    1\n",
      "99970    1\n",
      "99982    1\n",
      "99997    1\n",
      "Name: Rating, Length: 6110, dtype: int64, 3        2\n",
      "6        2\n",
      "10       2\n",
      "17       2\n",
      "19       2\n",
      "        ..\n",
      "99979    2\n",
      "99984    2\n",
      "99987    2\n",
      "99993    2\n",
      "99998    2\n",
      "Name: Rating, Length: 11370, dtype: int64, 0        3\n",
      "1        3\n",
      "8        3\n",
      "9        3\n",
      "13       3\n",
      "        ..\n",
      "99986    3\n",
      "99992    3\n",
      "99994    3\n",
      "99995    3\n",
      "99999    3\n",
      "Name: Rating, Length: 27145, dtype: int64, 5        4\n",
      "18       4\n",
      "20       4\n",
      "21       4\n",
      "22       4\n",
      "        ..\n",
      "99985    4\n",
      "99988    4\n",
      "99989    4\n",
      "99990    4\n",
      "99991    4\n",
      "Name: Rating, Length: 34174, dtype: int64, 7        5\n",
      "11       5\n",
      "12       5\n",
      "16       5\n",
      "26       5\n",
      "        ..\n",
      "99961    5\n",
      "99962    5\n",
      "99963    5\n",
      "99978    5\n",
      "99996    5\n",
      "Name: Rating, Length: 21201, dtype: int64]\n"
     ]
    }
   ],
   "metadata": {}
  }
 ],
 "metadata": {
  "orig_nbformat": 4,
  "language_info": {
   "name": "python",
   "version": "3.8.5",
   "mimetype": "text/x-python",
   "codemirror_mode": {
    "name": "ipython",
    "version": 3
   },
   "pygments_lexer": "ipython3",
   "nbconvert_exporter": "python",
   "file_extension": ".py"
  },
  "kernelspec": {
   "name": "python3",
   "display_name": "Python 3.8.5 64-bit"
  },
  "interpreter": {
   "hash": "752579dbebe7f4dfe7c1aa72eac13e23fc88be2cc1ea7ab14e1f8d69b2d97d12"
  }
 },
 "nbformat": 4,
 "nbformat_minor": 2
}